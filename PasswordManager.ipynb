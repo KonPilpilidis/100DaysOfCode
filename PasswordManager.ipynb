{
 "cells": [
  {
   "cell_type": "markdown",
   "metadata": {},
   "source": [
    "# Password manager\n",
    "## Info\n",
    "<ul>\n",
    "    <li> *Version*: 0.0\n",
    "    <li> *Author*: Konstantinos Pilpilidis\n",
    "    <li> *Start date*: 10.10.20\n",
    "    <li> \n",
    "</ul>\n",
    "\n",
    "## Functions\n",
    "\n",
    "<ul><li>Generate an alphanumerical password of a user defined length\n",
    "    <li>Save hashed passwords in a database\n",
    "    <li> \n",
    "</ul>\n",
    "\n",
    "----\n",
    "\n",
    "## Required packages\n",
    "### Password-related"
   ]
  },
  {
   "cell_type": "code",
   "execution_count": null,
   "metadata": {},
   "outputs": [],
   "source": [
    "from random import choice                               \n",
    "from string import ascii_letters, digits, punctuation"
   ]
  },
  {
   "cell_type": "markdown",
   "metadata": {},
   "source": [
    "## Gui"
   ]
  },
  {
   "cell_type": "code",
   "execution_count": 1,
   "metadata": {},
   "outputs": [],
   "source": [
    "import tkinter as tk\n",
    "from tkinter import filedialog, Text"
   ]
  },
  {
   "cell_type": "markdown",
   "metadata": {},
   "source": [
    "## Database"
   ]
  },
  {
   "cell_type": "code",
   "execution_count": null,
   "metadata": {},
   "outputs": [],
   "source": [
    "import mysql.connector"
   ]
  },
  {
   "cell_type": "markdown",
   "metadata": {},
   "source": [
    "## Global variables\n",
    "### Backend"
   ]
  },
  {
   "cell_type": "code",
   "execution_count": null,
   "metadata": {},
   "outputs": [],
   "source": [
    "characters = ascii_letters + digits + punctuation"
   ]
  },
  {
   "cell_type": "markdown",
   "metadata": {},
   "source": [
    "### Frontend"
   ]
  },
  {
   "cell_type": "code",
   "execution_count": 5,
   "metadata": {},
   "outputs": [],
   "source": [
    "Height = 1000\n",
    "Width = Height\n",
    "### Colors\n",
    "bgColor = \"#8cbcac\"\n",
    "windowColor = \"#488f31\"\n",
    "buttonColor = \"#f1f1f1\"\n",
    "textColor = \"#691f2b\"\n",
    "altbgColor = \"#b08587\"\n",
    "### Positioning\n",
    "paddingUP = 0.05\n",
    "paddingDOWN = paddingUP\n",
    "paddingRIGHT= 0.1\n",
    "paddingLEFT = paddingRIGHT"
   ]
  },
  {
   "cell_type": "markdown",
   "metadata": {},
   "source": [
    "## Methods\n",
    "### Backend"
   ]
  },
  {
   "cell_type": "code",
   "execution_count": 4,
   "metadata": {},
   "outputs": [],
   "source": [
    "def generate(length=8):\n",
    "    \"\"\"\n",
    "    Generates a password of length = arg1\n",
    "    returns str\n",
    "    \"\"\"\n",
    "    password = \"\"\n",
    "    for i in range(length):\n",
    "        password += choice(characters)\n",
    "    return password\n",
    "\n",
    "def hashPassword():"
   ]
  },
  {
   "cell_type": "markdown",
   "metadata": {},
   "source": [
    "### Frontend"
   ]
  },
  {
   "cell_type": "code",
   "execution_count": 6,
   "metadata": {},
   "outputs": [],
   "source": [
    "root = tk.Tk()\n",
    "canvas = tk.Canvas(root, height = Height, width = Width, bg = bgColor)\n",
    "frame = tk.Frame(root, bg = windowColor)\n",
    "labelMain = tk.Label(text=\"Main Menu\")\n",
    "labelMain.pack()\n",
    "canvas.pack()\n",
    "frame.place(relwidth=1-paddingLEFT-paddingRIGHT,\n",
    "            relheight=1-paddingUP-paddingDOWN,\n",
    "            relx=paddingLEFT,\n",
    "            rely=paddingUP)\n",
    "root.mainloop()"
   ]
  },
  {
   "cell_type": "code",
   "execution_count": null,
   "metadata": {},
   "outputs": [],
   "source": [
    "mydb = mysql.connector.connect(\n",
    "  host=\"localhost\",\n",
    "  user=\"yourusername\",\n",
    "  password=\"yourpassword\"\n",
    ")\n",
    "\n",
    "mycursor = mydb.cursor()\n",
    "\n",
    "mycursor.execute(\"CREATE DATABASE mydatabase\")"
   ]
  },
  {
   "cell_type": "code",
   "execution_count": null,
   "metadata": {},
   "outputs": [],
   "source": []
  },
  {
   "cell_type": "code",
   "execution_count": null,
   "metadata": {},
   "outputs": [],
   "source": []
  }
 ],
 "metadata": {
  "kernelspec": {
   "display_name": "Python 3",
   "language": "python",
   "name": "python3"
  },
  "language_info": {
   "codemirror_mode": {
    "name": "ipython",
    "version": 3
   },
   "file_extension": ".py",
   "mimetype": "text/x-python",
   "name": "python",
   "nbconvert_exporter": "python",
   "pygments_lexer": "ipython3",
   "version": "3.7.4"
  }
 },
 "nbformat": 4,
 "nbformat_minor": 2
}
